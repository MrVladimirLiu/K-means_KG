{
 "cells": [
  {
   "cell_type": "code",
   "execution_count": 1,
   "id": "19a34bf6",
   "metadata": {},
   "outputs": [
    {
     "ename": "ModuleNotFoundError",
     "evalue": "No module named 'torch'",
     "output_type": "error",
     "traceback": [
      "\u001b[0;31m---------------------------------------------------------------------------\u001b[0m",
      "\u001b[0;31mModuleNotFoundError\u001b[0m                       Traceback (most recent call last)",
      "\u001b[0;32m<ipython-input-1-eb42ca6e4af3>\u001b[0m in \u001b[0;36m<module>\u001b[0;34m\u001b[0m\n\u001b[0;32m----> 1\u001b[0;31m \u001b[0;32mimport\u001b[0m \u001b[0mtorch\u001b[0m\u001b[0;34m\u001b[0m\u001b[0;34m\u001b[0m\u001b[0m\n\u001b[0m",
      "\u001b[0;31mModuleNotFoundError\u001b[0m: No module named 'torch'"
     ]
    }
   ],
   "source": [
    "import torch"
   ]
  },
  {
   "cell_type": "code",
   "execution_count": 2,
   "id": "1c90266c",
   "metadata": {},
   "outputs": [
    {
     "data": {
      "text/plain": [
       "['123', '456', '789']"
      ]
     },
     "execution_count": 2,
     "metadata": {},
     "output_type": "execute_result"
    }
   ],
   "source": [
    "line = \"123 456 789\"\n",
    "strs = line.strip().split()\n",
    "strs"
   ]
  },
  {
   "cell_type": "code",
   "execution_count": null,
   "id": "2705949d",
   "metadata": {},
   "outputs": [],
   "source": [
    "terms = {\"123\":1, \"456\":2, \"789\":3}\n",
    "terms.get(\"123\")"
   ]
  },
  {
   "cell_type": "code",
   "execution_count": 8,
   "id": "0ee869bc",
   "metadata": {},
   "outputs": [],
   "source": [
    "from nltk.corpus import wordnet as wn"
   ]
  },
  {
   "cell_type": "code",
   "execution_count": 4,
   "id": "caf65a6f",
   "metadata": {},
   "outputs": [
    {
     "name": "stdout",
     "output_type": "stream",
     "text": [
      "showing info https://raw.githubusercontent.com/nltk/nltk_data/gh-pages/index.xml\n"
     ]
    },
    {
     "name": "stderr",
     "output_type": "stream",
     "text": [
      "Exception in Tkinter callback\n",
      "Traceback (most recent call last):\n",
      "  File \"/home/ljx/anaconda3/lib/python3.8/tkinter/__init__.py\", line 1892, in __call__\n",
      "    return self.func(*args)\n",
      "  File \"/home/ljx/anaconda3/lib/python3.8/site-packages/nltk/downloader.py\", line 1506, in <lambda>\n",
      "    entry.bind(\"<Button-1>\", lambda e, key=key: self._info_edit(key))\n",
      "  File \"/home/ljx/anaconda3/lib/python3.8/site-packages/nltk/downloader.py\", line 1629, in _info_edit\n",
      "    self._info_save()  # just in case.\n",
      "  File \"/home/ljx/anaconda3/lib/python3.8/site-packages/nltk/downloader.py\", line 1645, in _info_save\n",
      "    callback(entry.get())\n",
      "  File \"/home/ljx/anaconda3/lib/python3.8/site-packages/nltk/downloader.py\", line 1668, in _set_url\n",
      "    self._ds.url = url\n",
      "  File \"/home/ljx/anaconda3/lib/python3.8/site-packages/nltk/downloader.py\", line 1044, in _set_url\n",
      "    self._update_index(url)\n",
      "  File \"/home/ljx/anaconda3/lib/python3.8/site-packages/nltk/downloader.py\", line 954, in _update_index\n",
      "    ElementTree.parse(urlopen(self._url)).getroot()\n",
      "  File \"/home/ljx/anaconda3/lib/python3.8/urllib/request.py\", line 222, in urlopen\n",
      "    return opener.open(url, data, timeout)\n",
      "  File \"/home/ljx/anaconda3/lib/python3.8/urllib/request.py\", line 509, in open\n",
      "    req = Request(fullurl, data)\n",
      "  File \"/home/ljx/anaconda3/lib/python3.8/urllib/request.py\", line 328, in __init__\n",
      "    self.full_url = url\n",
      "  File \"/home/ljx/anaconda3/lib/python3.8/urllib/request.py\", line 354, in full_url\n",
      "    self._parse()\n",
      "  File \"/home/ljx/anaconda3/lib/python3.8/urllib/request.py\", line 383, in _parse\n",
      "    raise ValueError(\"unknown url type: %r\" % self.full_url)\n",
      "ValueError: unknown url type: 'nltk.org/nltk_data/https://raw.githubusercontent.com/nltk/nltk_data/gh-pages/index.xml'\n",
      "Exception in Tkinter callback\n",
      "Traceback (most recent call last):\n",
      "  File \"/home/ljx/anaconda3/lib/python3.8/tkinter/__init__.py\", line 1892, in __call__\n",
      "    return self.func(*args)\n",
      "  File \"/home/ljx/anaconda3/lib/python3.8/site-packages/nltk/downloader.py\", line 1506, in <lambda>\n",
      "    entry.bind(\"<Button-1>\", lambda e, key=key: self._info_edit(key))\n",
      "  File \"/home/ljx/anaconda3/lib/python3.8/site-packages/nltk/downloader.py\", line 1629, in _info_edit\n",
      "    self._info_save()  # just in case.\n",
      "  File \"/home/ljx/anaconda3/lib/python3.8/site-packages/nltk/downloader.py\", line 1645, in _info_save\n",
      "    callback(entry.get())\n",
      "  File \"/home/ljx/anaconda3/lib/python3.8/site-packages/nltk/downloader.py\", line 1668, in _set_url\n",
      "    self._ds.url = url\n",
      "  File \"/home/ljx/anaconda3/lib/python3.8/site-packages/nltk/downloader.py\", line 1044, in _set_url\n",
      "    self._update_index(url)\n",
      "  File \"/home/ljx/anaconda3/lib/python3.8/site-packages/nltk/downloader.py\", line 954, in _update_index\n",
      "    ElementTree.parse(urlopen(self._url)).getroot()\n",
      "  File \"/home/ljx/anaconda3/lib/python3.8/urllib/request.py\", line 222, in urlopen\n",
      "    return opener.open(url, data, timeout)\n",
      "  File \"/home/ljx/anaconda3/lib/python3.8/urllib/request.py\", line 509, in open\n",
      "    req = Request(fullurl, data)\n",
      "  File \"/home/ljx/anaconda3/lib/python3.8/urllib/request.py\", line 328, in __init__\n",
      "    self.full_url = url\n",
      "  File \"/home/ljx/anaconda3/lib/python3.8/urllib/request.py\", line 354, in full_url\n",
      "    self._parse()\n",
      "  File \"/home/ljx/anaconda3/lib/python3.8/urllib/request.py\", line 383, in _parse\n",
      "    raise ValueError(\"unknown url type: %r\" % self.full_url)\n",
      "ValueError: unknown url type: 'nltk.org/nltk_data/https://raw.githubusercontent.com/nltk/nltk_data/gh-pages/index.xml'\n",
      "Exception in Tkinter callback\n",
      "Traceback (most recent call last):\n",
      "  File \"/home/ljx/anaconda3/lib/python3.8/tkinter/__init__.py\", line 1892, in __call__\n",
      "    return self.func(*args)\n",
      "  File \"/home/ljx/anaconda3/lib/python3.8/site-packages/nltk/downloader.py\", line 1506, in <lambda>\n",
      "    entry.bind(\"<Button-1>\", lambda e, key=key: self._info_edit(key))\n",
      "  File \"/home/ljx/anaconda3/lib/python3.8/site-packages/nltk/downloader.py\", line 1629, in _info_edit\n",
      "    self._info_save()  # just in case.\n",
      "  File \"/home/ljx/anaconda3/lib/python3.8/site-packages/nltk/downloader.py\", line 1645, in _info_save\n",
      "    callback(entry.get())\n",
      "  File \"/home/ljx/anaconda3/lib/python3.8/site-packages/nltk/downloader.py\", line 1668, in _set_url\n",
      "    self._ds.url = url\n",
      "  File \"/home/ljx/anaconda3/lib/python3.8/site-packages/nltk/downloader.py\", line 1044, in _set_url\n",
      "    self._update_index(url)\n",
      "  File \"/home/ljx/anaconda3/lib/python3.8/site-packages/nltk/downloader.py\", line 954, in _update_index\n",
      "    ElementTree.parse(urlopen(self._url)).getroot()\n",
      "  File \"/home/ljx/anaconda3/lib/python3.8/urllib/request.py\", line 222, in urlopen\n",
      "    return opener.open(url, data, timeout)\n",
      "  File \"/home/ljx/anaconda3/lib/python3.8/urllib/request.py\", line 509, in open\n",
      "    req = Request(fullurl, data)\n",
      "  File \"/home/ljx/anaconda3/lib/python3.8/urllib/request.py\", line 328, in __init__\n",
      "    self.full_url = url\n",
      "  File \"/home/ljx/anaconda3/lib/python3.8/urllib/request.py\", line 354, in full_url\n",
      "    self._parse()\n",
      "  File \"/home/ljx/anaconda3/lib/python3.8/urllib/request.py\", line 383, in _parse\n",
      "    raise ValueError(\"unknown url type: %r\" % self.full_url)\n",
      "ValueError: unknown url type: 'nltk.org/nltk_data/https://raw.githubusercontent.com/nltk/nltk_data/gh-pages/index.xml'\n"
     ]
    },
    {
     "name": "stdout",
     "output_type": "stream",
     "text": [
      "showing info https://raw.githubusercontent.com/nltk/nltk_data/gh-pages/index.xml\n"
     ]
    },
    {
     "name": "stderr",
     "output_type": "stream",
     "text": [
      "Exception in Tkinter callback\n",
      "Traceback (most recent call last):\n",
      "  File \"/home/ljx/anaconda3/lib/python3.8/tkinter/__init__.py\", line 1892, in __call__\n",
      "    return self.func(*args)\n",
      "  File \"/home/ljx/anaconda3/lib/python3.8/site-packages/nltk/downloader.py\", line 1506, in <lambda>\n",
      "    entry.bind(\"<Button-1>\", lambda e, key=key: self._info_edit(key))\n",
      "  File \"/home/ljx/anaconda3/lib/python3.8/site-packages/nltk/downloader.py\", line 1629, in _info_edit\n",
      "    self._info_save()  # just in case.\n",
      "  File \"/home/ljx/anaconda3/lib/python3.8/site-packages/nltk/downloader.py\", line 1645, in _info_save\n",
      "    callback(entry.get())\n",
      "  File \"/home/ljx/anaconda3/lib/python3.8/site-packages/nltk/downloader.py\", line 1668, in _set_url\n",
      "    self._ds.url = url\n",
      "  File \"/home/ljx/anaconda3/lib/python3.8/site-packages/nltk/downloader.py\", line 1044, in _set_url\n",
      "    self._update_index(url)\n",
      "  File \"/home/ljx/anaconda3/lib/python3.8/site-packages/nltk/downloader.py\", line 954, in _update_index\n",
      "    ElementTree.parse(urlopen(self._url)).getroot()\n",
      "  File \"/home/ljx/anaconda3/lib/python3.8/urllib/request.py\", line 222, in urlopen\n",
      "    return opener.open(url, data, timeout)\n",
      "  File \"/home/ljx/anaconda3/lib/python3.8/urllib/request.py\", line 509, in open\n",
      "    req = Request(fullurl, data)\n",
      "  File \"/home/ljx/anaconda3/lib/python3.8/urllib/request.py\", line 328, in __init__\n",
      "    self.full_url = url\n",
      "  File \"/home/ljx/anaconda3/lib/python3.8/urllib/request.py\", line 354, in full_url\n",
      "    self._parse()\n",
      "  File \"/home/ljx/anaconda3/lib/python3.8/urllib/request.py\", line 383, in _parse\n",
      "    raise ValueError(\"unknown url type: %r\" % self.full_url)\n",
      "ValueError: unknown url type: 'nltk.org/nltk_data/'\n"
     ]
    },
    {
     "data": {
      "text/plain": [
       "True"
      ]
     },
     "execution_count": 4,
     "metadata": {},
     "output_type": "execute_result"
    }
   ],
   "source": [
    "import nltk\n",
    "nltk.download()"
   ]
  },
  {
   "cell_type": "code",
   "execution_count": null,
   "id": "dfd49fce",
   "metadata": {},
   "outputs": [],
   "source": [
    "nltk.download('omw-1.4')"
   ]
  },
  {
   "cell_type": "code",
   "execution_count": 12,
   "id": "c0339c9b",
   "metadata": {},
   "outputs": [],
   "source": [
    "wnid = wn.synset_from_pos_and_offset('n', 15093298)"
   ]
  },
  {
   "cell_type": "code",
   "execution_count": 15,
   "id": "53f79d88",
   "metadata": {},
   "outputs": [
    {
     "name": "stdout",
     "output_type": "stream",
     "text": [
      "Help on method lemma_names in module nltk.corpus.reader.wordnet:\n",
      "\n",
      "lemma_names(lang='eng') method of nltk.corpus.reader.wordnet.Synset instance\n",
      "    Return all the lemma_names associated with the synset\n",
      "\n"
     ]
    }
   ],
   "source": [
    "help(wnid.lemma_names)"
   ]
  },
  {
   "cell_type": "code",
   "execution_count": 19,
   "id": "e4f71322",
   "metadata": {},
   "outputs": [
    {
     "data": {
      "text/plain": [
       "['vitamin_C', 'C', 'ascorbic_acid']"
      ]
     },
     "execution_count": 19,
     "metadata": {},
     "output_type": "execute_result"
    }
   ],
   "source": [
    "wnid.lemma_names()"
   ]
  },
  {
   "cell_type": "code",
   "execution_count": 3,
   "id": "8597ee74",
   "metadata": {},
   "outputs": [
    {
     "ename": "ModuleNotFoundError",
     "evalue": "No module named 'torch'",
     "output_type": "error",
     "traceback": [
      "\u001b[0;31m---------------------------------------------------------------------------\u001b[0m",
      "\u001b[0;31mModuleNotFoundError\u001b[0m                       Traceback (most recent call last)",
      "\u001b[0;32m<ipython-input-3-be78ca85699a>\u001b[0m in \u001b[0;36m<module>\u001b[0;34m\u001b[0m\n\u001b[0;32m----> 1\u001b[0;31m \u001b[0;32mfrom\u001b[0m \u001b[0mglove\u001b[0m \u001b[0;32mimport\u001b[0m \u001b[0mGloVe\u001b[0m\u001b[0;34m\u001b[0m\u001b[0;34m\u001b[0m\u001b[0m\n\u001b[0m",
      "\u001b[0;32m~/CODE/K-means_KG/glove.py\u001b[0m in \u001b[0;36m<module>\u001b[0;34m\u001b[0m\n\u001b[0;32m----> 1\u001b[0;31m \u001b[0;32mimport\u001b[0m \u001b[0mtorch\u001b[0m\u001b[0;34m\u001b[0m\u001b[0;34m\u001b[0m\u001b[0m\n\u001b[0m\u001b[1;32m      2\u001b[0m \u001b[0;34m\u001b[0m\u001b[0m\n\u001b[1;32m      3\u001b[0m \u001b[0;34m\u001b[0m\u001b[0m\n\u001b[1;32m      4\u001b[0m \u001b[0;32mclass\u001b[0m \u001b[0mGloVe\u001b[0m\u001b[0;34m(\u001b[0m\u001b[0;34m)\u001b[0m\u001b[0;34m:\u001b[0m\u001b[0;34m\u001b[0m\u001b[0;34m\u001b[0m\u001b[0m\n\u001b[1;32m      5\u001b[0m \u001b[0;34m\u001b[0m\u001b[0m\n",
      "\u001b[0;31mModuleNotFoundError\u001b[0m: No module named 'torch'"
     ]
    }
   ],
   "source": [
    "from glove import GloVe"
   ]
  },
  {
   "cell_type": "code",
   "execution_count": null,
   "id": "8715092e",
   "metadata": {},
   "outputs": [],
   "source": []
  }
 ],
 "metadata": {
  "kernelspec": {
   "display_name": "torch1.7.1",
   "language": "python",
   "name": "torch1.7.1"
  },
  "language_info": {
   "codemirror_mode": {
    "name": "ipython",
    "version": 3
   },
   "file_extension": ".py",
   "mimetype": "text/x-python",
   "name": "python",
   "nbconvert_exporter": "python",
   "pygments_lexer": "ipython3",
   "version": "3.8.8"
  }
 },
 "nbformat": 4,
 "nbformat_minor": 5
}
